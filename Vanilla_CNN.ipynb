{
 "cells": [
  {
   "cell_type": "markdown",
   "metadata": {
    "collapsed": true,
    "pycharm": {
     "name": "#%% md\n"
    }
   },
   "source": [
    "# Deep learning model"
   ]
  },
  {
   "cell_type": "code",
   "execution_count": 55,
   "metadata": {
    "pycharm": {
     "name": "#%%\n"
    }
   },
   "outputs": [],
   "source": [
    "import os\n",
    "import numpy as np\n",
    "import tensorflow as tf\n",
    "from tensorflow import keras\n",
    "from sklearn.model_selection import train_test_split\n",
    "import matplotlib.pyplot as plt"
   ]
  },
  {
   "cell_type": "code",
   "execution_count": 10,
   "metadata": {
    "scrolled": true
   },
   "outputs": [
    {
     "data": {
      "text/plain": [
       "'2.0.0'"
      ]
     },
     "execution_count": 10,
     "metadata": {},
     "output_type": "execute_result"
    }
   ],
   "source": [
    "tf.version.VERSION"
   ]
  },
  {
   "cell_type": "markdown",
   "metadata": {
    "pycharm": {
     "name": "#%% md\n"
    }
   },
   "source": [
    "## Load data"
   ]
  },
  {
   "cell_type": "code",
   "execution_count": 134,
   "metadata": {
    "pycharm": {
     "name": "#%%\n"
    }
   },
   "outputs": [],
   "source": [
    "X = []\n",
    "Y = []"
   ]
  },
  {
   "cell_type": "code",
   "execution_count": 135,
   "metadata": {
    "pycharm": {
     "name": "#%%\n"
    }
   },
   "outputs": [
    {
     "name": "stdout",
     "output_type": "stream",
     "text": [
      "Loaded NDS001_Music_CD files\n",
      "Loaded NDS007_Music_CD files\n",
      "Loaded NDS006_Music_CD files\n",
      "Loaded NDS003_Music_CD files\n",
      "Loaded NDS002_Music_CD files\n",
      "Loaded NDS004_Music_CD files\n",
      "Loaded NDS005_Music_CD files\n",
      "Loaded NDS002_Rest_CD files\n",
      "Loaded NDS003_Rest_CD files\n",
      "Loaded NDS001_Rest_CD files\n",
      "Loaded NDS005_Rest_CD files\n",
      "Loaded NDS004_Rest_CD files\n",
      "Loaded NDS006_Rest_CD files\n",
      "Loaded NDS007_Rest_CD files\n"
     ]
    }
   ],
   "source": [
    "data_path = \"Data/GeneratedData/CleanData_IDD/\"\n",
    "base_path = os.getcwd()\n",
    "\n",
    "for type_dir in os.listdir(data_path):\n",
    "    if type_dir[0] == \".\":\n",
    "        continue\n",
    "    type_dir_path = os.path.join(base_path, data_path, type_dir)\n",
    "    for subject in os.listdir(type_dir_path):\n",
    "        if subject[0] == \".\":\n",
    "            continue\n",
    "        subject_dir_path = os.path.join(type_dir_path, subject)\n",
    "        for file in os.listdir(subject_dir_path):\n",
    "            if \"Music\" in file:\n",
    "                Y.append(1)\n",
    "            elif \"Rest\" in file:\n",
    "                Y.append(0)\n",
    "            X.append(np.loadtxt(os.path.join(type_dir_path, subject, file)))\n",
    "        print(f\"Loaded {subject} files\")\n",
    "        # create directory for file and populate with new data.\n",
    "        # f_path = os.path.join(base_path, type_dir_path, file)\n",
    "        # file_dir = file[:-4]\n",
    "        # d_path = os.path.join(base_path, generated_data_path, group_dir, type_dir, file_dir)\n",
    "        # generate_data(file, f_path, d_path, clip_length)"
   ]
  },
  {
   "cell_type": "code",
   "execution_count": 136,
   "metadata": {},
   "outputs": [],
   "source": [
    "X = np.asarray(X)\n",
    "Y = np.asarray(Y)\n"
   ]
  },
  {
   "cell_type": "code",
   "execution_count": 137,
   "metadata": {},
   "outputs": [
    {
     "data": {
      "text/plain": [
       "numpy.ndarray"
      ]
     },
     "execution_count": 137,
     "metadata": {},
     "output_type": "execute_result"
    }
   ],
   "source": [
    "type(X)"
   ]
  },
  {
   "cell_type": "code",
   "execution_count": 138,
   "metadata": {},
   "outputs": [
    {
     "name": "stdout",
     "output_type": "stream",
     "text": [
      "(3220, 14, 640)\n",
      "(3220,)\n"
     ]
    }
   ],
   "source": [
    "print(X.shape)\n",
    "print(Y.shape)"
   ]
  },
  {
   "cell_type": "code",
   "execution_count": 139,
   "metadata": {},
   "outputs": [
    {
     "data": {
      "text/plain": [
       "(3220, 14, 640, 1)"
      ]
     },
     "execution_count": 139,
     "metadata": {},
     "output_type": "execute_result"
    }
   ],
   "source": [
    "# reshape data\n",
    "X = X.reshape(X.shape[0], 14, 640, 1)\n",
    "X.shape"
   ]
  },
  {
   "cell_type": "markdown",
   "metadata": {},
   "source": [
    "## Test-train-val split"
   ]
  },
  {
   "cell_type": "code",
   "execution_count": 140,
   "metadata": {},
   "outputs": [],
   "source": [
    "X_train, X_test, y_train, y_test = train_test_split(X, Y, test_size=0.2, random_state=22)"
   ]
  },
  {
   "cell_type": "code",
   "execution_count": 141,
   "metadata": {},
   "outputs": [],
   "source": [
    "X_train, X_val, y_train, y_val = train_test_split(X_train, y_train, test_size=0.25, random_state=22)"
   ]
  },
  {
   "cell_type": "code",
   "execution_count": 142,
   "metadata": {},
   "outputs": [
    {
     "name": "stdout",
     "output_type": "stream",
     "text": [
      "X_train shape: (1932, 14, 640, 1)\n",
      "y_train shape: (1932,)\n",
      "X_val shape: (644, 14, 640, 1)\n",
      "y_val shape: (644,)\n",
      "X_test shape: (644, 14, 640, 1)\n",
      "y_test shape: (644,)\n"
     ]
    }
   ],
   "source": [
    "print(\"X_train shape:\", X_train.shape)\n",
    "print(\"y_train shape:\", y_train.shape)\n",
    "print(\"X_val shape:\", X_val.shape)\n",
    "print(\"y_val shape:\", y_val.shape)\n",
    "print(\"X_test shape:\", X_test.shape)\n",
    "print(\"y_test shape:\", y_test.shape)\n"
   ]
  },
  {
   "cell_type": "markdown",
   "metadata": {
    "pycharm": {
     "name": "#%% md\n"
    }
   },
   "source": [
    "# Build the model\n"
   ]
  },
  {
   "cell_type": "code",
   "execution_count": 143,
   "metadata": {
    "pycharm": {
     "name": "#%%\n"
    }
   },
   "outputs": [],
   "source": [
    "model = keras.Sequential([\n",
    "    # Set input layer\n",
    "    keras.layers.InputLayer(input_shape=(14, 640, 1)),\n",
    "    \n",
    "    # Normalization\n",
    "    keras.layers.BatchNormalization(),\n",
    "    \n",
    "    # Conv + Maxpooling\n",
    "    keras.layers.Conv2D(8, (3, 3), padding=\"same\", activation=tf.nn.relu),\n",
    "    keras.layers.MaxPooling2D(pool_size=(2, 2)),\n",
    "    \n",
    "    # Dropout\n",
    "    keras.layers.Dropout(0.3),\n",
    "    \n",
    "    # Flatten and convert from 3D to 1D\n",
    "    keras.layers.Flatten(),\n",
    "    \n",
    "    # Sigmoid\n",
    "    keras.layers.Dense(1, activation=tf.nn.sigmoid)\n",
    "])\n"
   ]
  },
  {
   "cell_type": "code",
   "execution_count": 144,
   "metadata": {},
   "outputs": [],
   "source": [
    "model.compile(\n",
    "  optimizer='adam',\n",
    "  loss='binary_crossentropy',\n",
    "  metrics=['accuracy'],\n",
    ")"
   ]
  },
  {
   "cell_type": "code",
   "execution_count": 145,
   "metadata": {
    "scrolled": false
   },
   "outputs": [
    {
     "name": "stdout",
     "output_type": "stream",
     "text": [
      "Model: \"sequential_11\"\n",
      "_________________________________________________________________\n",
      "Layer (type)                 Output Shape              Param #   \n",
      "=================================================================\n",
      "batch_normalization_7 (Batch (None, 14, 640, 1)        4         \n",
      "_________________________________________________________________\n",
      "conv2d_11 (Conv2D)           (None, 14, 640, 8)        80        \n",
      "_________________________________________________________________\n",
      "max_pooling2d_10 (MaxPooling (None, 7, 320, 8)         0         \n",
      "_________________________________________________________________\n",
      "dropout_11 (Dropout)         (None, 7, 320, 8)         0         \n",
      "_________________________________________________________________\n",
      "flatten_11 (Flatten)         (None, 17920)             0         \n",
      "_________________________________________________________________\n",
      "dense_11 (Dense)             (None, 1)                 17921     \n",
      "=================================================================\n",
      "Total params: 18,005\n",
      "Trainable params: 18,003\n",
      "Non-trainable params: 2\n",
      "_________________________________________________________________\n"
     ]
    }
   ],
   "source": [
    "model.summary()"
   ]
  },
  {
   "cell_type": "markdown",
   "metadata": {},
   "source": [
    "## Training"
   ]
  },
  {
   "cell_type": "code",
   "execution_count": 146,
   "metadata": {
    "scrolled": false
   },
   "outputs": [
    {
     "name": "stdout",
     "output_type": "stream",
     "text": [
      "Train on 1932 samples, validate on 644 samples\n",
      "Epoch 1/20\n",
      "1932/1932 [==============================] - 6s 3ms/sample - loss: 1.1390 - accuracy: 0.4917 - val_loss: 1.8259 - val_accuracy: 0.5031\n",
      "Epoch 2/20\n",
      "1932/1932 [==============================] - 4s 2ms/sample - loss: 0.8184 - accuracy: 0.5393 - val_loss: 1.1021 - val_accuracy: 0.5217\n",
      "Epoch 3/20\n",
      "1932/1932 [==============================] - 4s 2ms/sample - loss: 0.6410 - accuracy: 0.6273 - val_loss: 0.6870 - val_accuracy: 0.6335\n",
      "Epoch 4/20\n",
      "1932/1932 [==============================] - 4s 2ms/sample - loss: 0.5791 - accuracy: 0.6775 - val_loss: 0.6840 - val_accuracy: 0.6118\n",
      "Epoch 5/20\n",
      "1932/1932 [==============================] - 4s 2ms/sample - loss: 0.5441 - accuracy: 0.6993 - val_loss: 0.6214 - val_accuracy: 0.6584\n",
      "Epoch 6/20\n",
      "1932/1932 [==============================] - 5s 2ms/sample - loss: 0.5088 - accuracy: 0.7386 - val_loss: 0.6752 - val_accuracy: 0.6289\n",
      "Epoch 7/20\n",
      "1932/1932 [==============================] - 4s 2ms/sample - loss: 0.4884 - accuracy: 0.7681 - val_loss: 0.6422 - val_accuracy: 0.6444\n",
      "Epoch 8/20\n",
      "1932/1932 [==============================] - 4s 2ms/sample - loss: 0.4685 - accuracy: 0.7831 - val_loss: 0.6236 - val_accuracy: 0.6568\n",
      "Epoch 9/20\n",
      "1932/1932 [==============================] - 4s 2ms/sample - loss: 0.4490 - accuracy: 0.7935 - val_loss: 0.6285 - val_accuracy: 0.6661\n",
      "Epoch 10/20\n",
      "1932/1932 [==============================] - 5s 2ms/sample - loss: 0.4369 - accuracy: 0.8054 - val_loss: 0.6325 - val_accuracy: 0.6708\n",
      "Epoch 11/20\n",
      "1932/1932 [==============================] - 4s 2ms/sample - loss: 0.4143 - accuracy: 0.8137 - val_loss: 0.6717 - val_accuracy: 0.6444\n",
      "Epoch 12/20\n",
      "1932/1932 [==============================] - 4s 2ms/sample - loss: 0.4044 - accuracy: 0.8106 - val_loss: 0.6657 - val_accuracy: 0.6506\n",
      "Epoch 13/20\n",
      "1932/1932 [==============================] - 4s 2ms/sample - loss: 0.3712 - accuracy: 0.8535 - val_loss: 0.6447 - val_accuracy: 0.6755\n",
      "Epoch 14/20\n",
      "1932/1932 [==============================] - 4s 2ms/sample - loss: 0.3632 - accuracy: 0.8509 - val_loss: 0.6457 - val_accuracy: 0.6739\n",
      "Epoch 15/20\n",
      "1932/1932 [==============================] - 4s 2ms/sample - loss: 0.3326 - accuracy: 0.8716 - val_loss: 0.6521 - val_accuracy: 0.6786\n",
      "Epoch 16/20\n",
      "1932/1932 [==============================] - 4s 2ms/sample - loss: 0.3210 - accuracy: 0.8732 - val_loss: 0.7148 - val_accuracy: 0.6630\n",
      "Epoch 17/20\n",
      "1932/1932 [==============================] - 4s 2ms/sample - loss: 0.2984 - accuracy: 0.8908 - val_loss: 0.6876 - val_accuracy: 0.6786\n",
      "Epoch 18/20\n",
      "1932/1932 [==============================] - 5s 2ms/sample - loss: 0.2995 - accuracy: 0.8877 - val_loss: 0.6833 - val_accuracy: 0.6739\n",
      "Epoch 19/20\n",
      "1932/1932 [==============================] - 4s 2ms/sample - loss: 0.2675 - accuracy: 0.9089 - val_loss: 0.7152 - val_accuracy: 0.6786\n",
      "Epoch 20/20\n",
      "1932/1932 [==============================] - 4s 2ms/sample - loss: 0.2526 - accuracy: 0.9125 - val_loss: 0.6783 - val_accuracy: 0.6755\n"
     ]
    }
   ],
   "source": [
    "history = model.fit(X_train, \n",
    "                    y_train, \n",
    "                    epochs=20, \n",
    "                    batch_size=128,\n",
    "                    validation_data=(X_val, y_val), \n",
    "                    verbose=1)"
   ]
  },
  {
   "cell_type": "code",
   "execution_count": 147,
   "metadata": {},
   "outputs": [
    {
     "data": {
      "text/plain": [
       "<matplotlib.legend.Legend at 0x7ff232de8cd0>"
      ]
     },
     "execution_count": 147,
     "metadata": {},
     "output_type": "execute_result"
    },
    {
     "data": {
      "image/png": "[encoded data removed]",
      "text/plain": [
       "<Figure size 432x288 with 1 Axes>"
      ]
     },
     "metadata": {
      "needs_background": "light"
     },
     "output_type": "display_data"
    },
    {
     "data": {
      "image/png": "[encoded data removed]",
      "text/plain": [
       "<Figure size 432x288 with 1 Axes>"
      ]
     },
     "metadata": {
      "needs_background": "light"
     },
     "output_type": "display_data"
    }
   ],
   "source": [
    "# Retrieve a list of accuracy results on training and test data\n",
    "# sets for each training epoch\n",
    "acc = history.history['accuracy']\n",
    "val_acc = history.history['val_accuracy']\n",
    "\n",
    "# Retrieve a list of list results on training and test data\n",
    "# sets for each training epoch\n",
    "loss = history.history['loss']\n",
    "val_loss = history.history['val_loss']\n",
    "\n",
    "# Get number of epochs\n",
    "epochs = range(len(acc))\n",
    "\n",
    "# Plot training and validation accuracy per epoch\n",
    "plt.plot(epochs, acc)\n",
    "plt.plot(epochs, val_acc)\n",
    "plt.title('Training and validation accuracy')\n",
    "plt.legend(['train', 'val'], loc='upper left')\n",
    "# plt.legend(['train'], loc='upper left')\n",
    "\n",
    "\n",
    "plt.figure()\n",
    "\n",
    "# Plot training and validation loss per epoch\n",
    "plt.plot(epochs, loss)\n",
    "plt.plot(epochs, val_loss)\n",
    "plt.title('Training and validation loss')\n",
    "plt.legend(['train', 'val'], loc='upper left')\n",
    "# plt.legend(['train'], loc='upper left')"
   ]
  },
  {
   "cell_type": "markdown",
   "metadata": {},
   "source": [
    "## Testing"
   ]
  },
  {
   "cell_type": "code",
   "execution_count": 148,
   "metadata": {},
   "outputs": [
    {
     "name": "stdout",
     "output_type": "stream",
     "text": [
      "\r",
      "644/1 [========================================================================================================================================================================================================================================================================================================================================================================================================================================================================================================================================================================================================================================================================================================================================================================================================================================================================================================================================================================================================================================================================================================================================================================================================================================================================================================================================================================================================================================================================================================================================================================================================================================================================================================================================================================================================================================================================================================================================================================================================================================================================================================================================================================================================================================================================================================================================================================================================================================================================================================================================================================================================================================================================================================================================================================================================================================================================================================================================================================================================================================================================================================================================================================================================================================================================================================================================================================================================================================================================================================================================================================================================================================================================================================================================================================================================================================================================================================================================================================================================================================================================================================================================================================================================================================================================================================================================================================================================================================================================================================================================================================================================================================================================================================================================================================================================================================================================================================================================================================================================================================================================================================================================================================================================================================================================================================================================================================================================================================================================================================================================================================================================================================================================================================================================================================================================================================================================================================================================================================================================================================================================================================================================================================================================================================================================================================================================================================================================================================================================================================================================================================================================================================================================================================================================================================================================================================================================================================================================================================================================================================================================================================================================================================================================================================================================================================================================================================================================================================================================================================================================================================================================================================================================================================================================================================================================================================================================================================================================================================================================================================================================================================================================================================================================================================================================================================================================================================================================================================================================================================================================================================================================================================================================================================================================================================================================================================================================================================================================================================================================================================================================================================================================================================================================================================================================================================================================================================================================================================================================================================================================================================================================================================================================================================================================================================================================================================================================================================================================================================================================================================================================================================================================================================================================================================================================================================================================================================================================================================================================================================================================================================================================================================================================================================================================================================================================================================================================================================================================================================================================================================================================================================================================================================================================================================================================================================================================================================================================================================================================================================================================================================================================================================================================================================================================================================================================================================================================================================================================================================================================================================================================================================================================================================================================================================================================================================================================================================================================================================================================================================================================================================================================================================================================================================================================================================================================================================================================================================================================================================================================================================================================================================================================================================================================================================================================================================================================================================================================================================================================================================================================================================================================================================================================================================================================================================================================================================================================================================================================================================================================================================================================================================================================================================================================================================================================================================================================================================================================================================================================================================================================================================================================================================================================================================================================================================================================================================================================================================================================================================================================================================================================================================================================================================================================================================================================================================================================================================================================================================================================================================================================================================================================================================================================================================================================================================================================================================================================================================================================================================================================================================================================================================================================================================================================================================================================================================================================================================================================================================================================================================================================================================================================================================================================================================================================================================================================================================================================================================================================================================================================================================================================================================================================================================================================================================================================================================================================================================================================================================================================================================================================================================================================================================================================================================================================================================================================================================================================================================================================================================================================================================================================================================================================================================================================================================================================================================================================================================================================================================================================================================================================================================================================================================================================================================================================================================================================================================================================================================================================================================================================================================================================================================================================================================================================================================================================================================================================================================================================================================================================================================================================================================================================================================================================================================================================================================================================================================================================================================================================================================================================================================================================================================================] - 0s 529us/sample - loss: 0.5412 - accuracy: 0.6894\n"
     ]
    },
    {
     "name": "stdout",
     "output_type": "stream",
     "text": [
      "Test accuracy: 0.68944097\n"
     ]
    }
   ],
   "source": [
    "test_loss, test_acc = model.evaluate(X_test, y_test)\n",
    "\n",
    "print('Test accuracy:', test_acc)"
   ]
  },
  {
   "cell_type": "code",
   "execution_count": null,
   "metadata": {},
   "outputs": [],
   "source": []
  }
 ],
 "metadata": {
  "kernelspec": {
   "display_name": "Python 3",
   "language": "python",
   "name": "python3"
  },
  "language_info": {
   "codemirror_mode": {
    "name": "ipython",
    "version": 3
   },
   "file_extension": ".py",
   "mimetype": "text/x-python",
   "name": "python",
   "nbconvert_exporter": "python",
   "pygments_lexer": "ipython3",
   "version": "3.7.10"
  }
 },
 "nbformat": 4,
 "nbformat_minor": 1
}
