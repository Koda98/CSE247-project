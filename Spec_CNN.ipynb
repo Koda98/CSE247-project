{
 "cells": [
  {
   "cell_type": "code",
   "execution_count": 1,
   "id": "3b42dfe8",
   "metadata": {},
   "outputs": [],
   "source": [
    "import os\n",
    "import numpy as np\n",
    "import tensorflow as tf\n",
    "from tensorflow import keras\n",
    "from sklearn.model_selection import train_test_split\n",
    "import matplotlib.pyplot as plt\n",
    "import pywt"
   ]
  },
  {
   "cell_type": "code",
   "execution_count": 2,
   "id": "87b08984",
   "metadata": {},
   "outputs": [],
   "source": [
    "X = []\n",
    "Y = []"
   ]
  },
  {
   "cell_type": "markdown",
   "id": "4080f158",
   "metadata": {},
   "source": [
    "## Load data"
   ]
  },
  {
   "cell_type": "code",
   "execution_count": 15,
   "id": "768354ed",
   "metadata": {},
   "outputs": [
    {
     "data": {
      "text/plain": [
       "1610"
      ]
     },
     "execution_count": 15,
     "metadata": {},
     "output_type": "execute_result"
    }
   ],
   "source": [
    "IDD_rest = np.load(\"Data/GeneratedData/combined_data/IDD_rest.npy\")\n",
    "IDD_music = np.load(\"Data/GeneratedData/combined_data/IDD_music.npy\")\n",
    "\n",
    "TDC_rest = np.load(\"Data/GeneratedData/combined_data/TDC_rest.npy\")\n",
    "TDC_music = np.load(\"Data/GeneratedData/combined_data/TDC_music.npy\")"
   ]
  },
  {
   "cell_type": "code",
   "execution_count": null,
   "id": "8d98e01b",
   "metadata": {},
   "outputs": [],
   "source": [
    "X = IDD_rest\n",
    "Y = []\n",
    "\n"
   ]
  },
  {
   "cell_type": "code",
   "execution_count": 4,
   "id": "fdadd12b",
   "metadata": {},
   "outputs": [],
   "source": [
    "X = np.asarray(X)\n",
    "Y = np.asarray(Y)\n"
   ]
  },
  {
   "cell_type": "code",
   "execution_count": 5,
   "id": "05e5a9a2",
   "metadata": {},
   "outputs": [
    {
     "name": "stdout",
     "output_type": "stream",
     "text": [
      "(3220, 14, 640)\n",
      "(3220,)\n"
     ]
    }
   ],
   "source": [
    "print(X.shape)\n",
    "print(Y.shape)"
   ]
  },
  {
   "cell_type": "code",
   "execution_count": 6,
   "id": "9cb95431",
   "metadata": {},
   "outputs": [
    {
     "data": {
      "text/plain": [
       "(3220, 14, 640, 1)"
      ]
     },
     "execution_count": 6,
     "metadata": {},
     "output_type": "execute_result"
    }
   ],
   "source": [
    "# reshape data\n",
    "X = X.reshape(X.shape[0], 14, 640, 1)\n",
    "X.shape"
   ]
  },
  {
   "cell_type": "markdown",
   "id": "221a28e4",
   "metadata": {},
   "source": [
    "## Test-Train split"
   ]
  },
  {
   "cell_type": "code",
   "execution_count": 7,
   "id": "fbf16857",
   "metadata": {},
   "outputs": [],
   "source": [
    "X_train, X_test, y_train, y_test = train_test_split(X, Y, test_size=0.2, random_state=22)"
   ]
  },
  {
   "cell_type": "code",
   "execution_count": 8,
   "id": "b1aee88d",
   "metadata": {},
   "outputs": [],
   "source": [
    "X_train, X_val, y_train, y_val = train_test_split(X_train, y_train, test_size=0.25, random_state=22)"
   ]
  },
  {
   "cell_type": "code",
   "execution_count": 9,
   "id": "52251ab5",
   "metadata": {
    "scrolled": true
   },
   "outputs": [
    {
     "name": "stdout",
     "output_type": "stream",
     "text": [
      "X_train shape: (1932, 14, 640, 1)\n",
      "y_train shape: (1932,)\n",
      "X_val shape: (644, 14, 640, 1)\n",
      "y_val shape: (644,)\n",
      "X_test shape: (644, 14, 640, 1)\n",
      "y_test shape: (644,)\n"
     ]
    }
   ],
   "source": [
    "print(\"X_train shape:\", X_train.shape)\n",
    "print(\"y_train shape:\", y_train.shape)\n",
    "print(\"X_val shape:\", X_val.shape)\n",
    "print(\"y_val shape:\", y_val.shape)\n",
    "print(\"X_test shape:\", X_test.shape)\n",
    "print(\"y_test shape:\", y_test.shape)\n"
   ]
  },
  {
   "cell_type": "code",
   "execution_count": 11,
   "id": "16078b2c",
   "metadata": {},
   "outputs": [],
   "source": [
    "import pywt\n",
    "\n",
    "def wavelet_coefs(data,func, wavelet_name='db4'):\n",
    "    coefs = pywt.wavedec(data, wavelet=wavelet_name, level=None)\n",
    "    n_channels, n_times = data.shape\n",
    "    levdec = len(coefs) - 1\n",
    "\n",
    "    wavelet_energy = np.zeros((n_channels, levdec))\n",
    "    for j in range(n_channels):\n",
    "        for l in range(levdec):\n",
    "            if func=='energy':\n",
    "                wavelet_energy[j, l] = np.sum(coefs[levdec - l][j, :] ** 2)\n",
    "            else:\n",
    "                wavelet_energy[j, l] = func(coefs[levdec - l][j, :])\n",
    "    return wavelet_energy.ravel()"
   ]
  },
  {
   "cell_type": "code",
   "execution_count": 12,
   "id": "b3a92925",
   "metadata": {},
   "outputs": [],
   "source": [
    "def calculate_features(func):\n",
    "    features1=[]\n",
    "    features2=[]\n",
    "    for k in tqdm(range(7)):\n",
    "        feature1=[]\n",
    "        feature2=[]\n",
    "        for i in range(30):  \n",
    "            feature1.append(wavelet_coefs(IDD_rest[k][i],func=func))\n",
    "            feature2.append(wavelet_coefs(TDC_rest[k][i],func=func))\n",
    "        features1.append(np.array(feature1))\n",
    "        features2.append(np.array(feature2))\n",
    "    x1=np.array(features1)        \n",
    "    x2=np.array(features2) \n",
    "    y=np.concatenate(((np.zeros(x1.shape[0])),(np.ones(x2.shape[0]))))\n",
    "    X=np.concatenate((x1,x2),axis=0)\n",
    "    return X,y"
   ]
  },
  {
   "cell_type": "code",
   "execution_count": null,
   "id": "65808dda",
   "metadata": {},
   "outputs": [],
   "source": [
    "X, y = calculate_features(np.mean)"
   ]
  }
 ],
 "metadata": {
  "kernelspec": {
   "display_name": "Python 3",
   "language": "python",
   "name": "python3"
  },
  "language_info": {
   "codemirror_mode": {
    "name": "ipython",
    "version": 3
   },
   "file_extension": ".py",
   "mimetype": "text/x-python",
   "name": "python",
   "nbconvert_exporter": "python",
   "pygments_lexer": "ipython3",
   "version": "3.7.10"
  }
 },
 "nbformat": 4,
 "nbformat_minor": 5
}
