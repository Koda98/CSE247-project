{
 "cells": [
  {
   "cell_type": "code",
   "execution_count": 1,
   "id": "0dc0317c",
   "metadata": {},
   "outputs": [],
   "source": [
    "import os\n",
    "import numpy as np\n",
    "import tensorflow as tf\n",
    "from tensorflow import keras\n",
    "from sklearn.model_selection import train_test_split\n",
    "import matplotlib.pyplot as plt\n",
    "import pywt"
   ]
  },
  {
   "cell_type": "code",
   "execution_count": 2,
   "id": "d2c34a97",
   "metadata": {},
   "outputs": [],
   "source": [
    "X = []\n",
    "Y = []"
   ]
  },
  {
   "cell_type": "markdown",
   "id": "32a2eb27",
   "metadata": {},
   "source": [
    "## Load data"
   ]
  },
  {
   "cell_type": "code",
   "execution_count": 3,
   "id": "0971741b",
   "metadata": {},
   "outputs": [
    {
     "name": "stdout",
     "output_type": "stream",
     "text": [
      "Loaded NDS001_Music_CD files\n",
      "Loaded NDS007_Music_CD files\n",
      "Loaded NDS006_Music_CD files\n",
      "Loaded NDS003_Music_CD files\n",
      "Loaded NDS002_Music_CD files\n",
      "Loaded NDS004_Music_CD files\n",
      "Loaded NDS005_Music_CD files\n",
      "Loaded NDS002_Rest_CD files\n",
      "Loaded NDS003_Rest_CD files\n",
      "Loaded NDS001_Rest_CD files\n",
      "Loaded NDS005_Rest_CD files\n",
      "Loaded NDS004_Rest_CD files\n",
      "Loaded NDS006_Rest_CD files\n",
      "Loaded NDS007_Rest_CD files\n"
     ]
    }
   ],
   "source": [
    "data_path = \"Data/GeneratedData/CleanData_IDD/\"\n",
    "base_path = os.getcwd()\n",
    "\n",
    "for type_dir in os.listdir(data_path):\n",
    "    if type_dir[0] == \".\":\n",
    "        continue\n",
    "    type_dir_path = os.path.join(base_path, data_path, type_dir)\n",
    "    for subject in os.listdir(type_dir_path):\n",
    "        if subject[0] == \".\":\n",
    "            continue\n",
    "        subject_dir_path = os.path.join(type_dir_path, subject)\n",
    "        for file in os.listdir(subject_dir_path):\n",
    "            if \"Music\" in file:\n",
    "                Y.append(1)\n",
    "            elif \"Rest\" in file:\n",
    "                Y.append(0)\n",
    "            X.append(np.loadtxt(os.path.join(type_dir_path, subject, file)))\n",
    "        print(f\"Loaded {subject} files\")"
   ]
  },
  {
   "cell_type": "code",
   "execution_count": 4,
   "id": "5274d325",
   "metadata": {},
   "outputs": [],
   "source": [
    "X = np.asarray(X)\n",
    "Y = np.asarray(Y)\n"
   ]
  },
  {
   "cell_type": "code",
   "execution_count": 5,
   "id": "9ab94eac",
   "metadata": {},
   "outputs": [
    {
     "name": "stdout",
     "output_type": "stream",
     "text": [
      "(3220, 14, 640)\n",
      "(3220,)\n"
     ]
    }
   ],
   "source": [
    "print(X.shape)\n",
    "print(Y.shape)"
   ]
  },
  {
   "cell_type": "code",
   "execution_count": null,
   "id": "bd3c2339",
   "metadata": {},
   "outputs": [],
   "source": [
    "np.save(\"Data/GeneratedData/IDD_\", X)\n",
    "np.save(\"Data/GeneratedData/IDD\", Y)"
   ]
  },
  {
   "cell_type": "code",
   "execution_count": 6,
   "id": "f78e6389",
   "metadata": {},
   "outputs": [
    {
     "data": {
      "text/plain": [
       "(3220, 14, 640, 1)"
      ]
     },
     "execution_count": 6,
     "metadata": {},
     "output_type": "execute_result"
    }
   ],
   "source": [
    "# reshape data\n",
    "X = X.reshape(X.shape[0], 14, 640, 1)\n",
    "X.shape"
   ]
  },
  {
   "cell_type": "markdown",
   "id": "3b105be3",
   "metadata": {},
   "source": [
    "## Test-Train split"
   ]
  },
  {
   "cell_type": "code",
   "execution_count": 7,
   "id": "272d586f",
   "metadata": {},
   "outputs": [],
   "source": [
    "X_train, X_test, y_train, y_test = train_test_split(X, Y, test_size=0.2, random_state=22)"
   ]
  },
  {
   "cell_type": "code",
   "execution_count": 8,
   "id": "db0dca9b",
   "metadata": {},
   "outputs": [],
   "source": [
    "X_train, X_val, y_train, y_val = train_test_split(X_train, y_train, test_size=0.25, random_state=22)"
   ]
  },
  {
   "cell_type": "code",
   "execution_count": 9,
   "id": "b2f7a591",
   "metadata": {},
   "outputs": [
    {
     "name": "stdout",
     "output_type": "stream",
     "text": [
      "X_train shape: (1932, 14, 640, 1)\n",
      "y_train shape: (1932,)\n",
      "X_val shape: (644, 14, 640, 1)\n",
      "y_val shape: (644,)\n",
      "X_test shape: (644, 14, 640, 1)\n",
      "y_test shape: (644,)\n"
     ]
    }
   ],
   "source": [
    "print(\"X_train shape:\", X_train.shape)\n",
    "print(\"y_train shape:\", y_train.shape)\n",
    "print(\"X_val shape:\", X_val.shape)\n",
    "print(\"y_val shape:\", y_val.shape)\n",
    "print(\"X_test shape:\", X_test.shape)\n",
    "print(\"y_test shape:\", y_test.shape)\n"
   ]
  },
  {
   "cell_type": "code",
   "execution_count": 11,
   "id": "92b72682",
   "metadata": {},
   "outputs": [],
   "source": [
    "import pywt\n",
    "\n",
    "def wavelet_coefs(data,func, wavelet_name='db4'):\n",
    "    coefs = pywt.wavedec(data, wavelet=wavelet_name, level=None)\n",
    "    n_channels, n_times = data.shape\n",
    "    levdec = len(coefs) - 1\n",
    "\n",
    "    wavelet_energy = np.zeros((n_channels, levdec))\n",
    "    for j in range(n_channels):\n",
    "        for l in range(levdec):\n",
    "            if func=='energy':\n",
    "                wavelet_energy[j, l] = np.sum(coefs[levdec - l][j, :] ** 2)\n",
    "            else:\n",
    "                wavelet_energy[j, l] = func(coefs[levdec - l][j, :])\n",
    "    return wavelet_energy.ravel()"
   ]
  },
  {
   "cell_type": "code",
   "execution_count": 12,
   "id": "1447eff9",
   "metadata": {},
   "outputs": [],
   "source": [
    "def calculate_features(func):\n",
    "    features1=[]\n",
    "    features2=[]\n",
    "    for k in tqdm(range(7)):\n",
    "        feature1=[]\n",
    "        feature2=[]\n",
    "        for i in range(30):  \n",
    "            feature1.append(wavelet_coefs(IDD_rest[k][i],func=func))\n",
    "            feature2.append(wavelet_coefs(TDC_rest[k][i],func=func))\n",
    "        features1.append(np.array(feature1))\n",
    "        features2.append(np.array(feature2))\n",
    "    x1=np.array(features1)        \n",
    "    x2=np.array(features2) \n",
    "    y=np.concatenate(((np.zeros(x1.shape[0])),(np.ones(x2.shape[0]))))\n",
    "    X=np.concatenate((x1,x2),axis=0)\n",
    "    return X,y"
   ]
  },
  {
   "cell_type": "code",
   "execution_count": null,
   "id": "51007020",
   "metadata": {},
   "outputs": [],
   "source": [
    "X, y = calculate_features(np.mean)"
   ]
  }
 ],
 "metadata": {
  "kernelspec": {
   "display_name": "Python 3",
   "language": "python",
   "name": "python3"
  },
  "language_info": {
   "codemirror_mode": {
    "name": "ipython",
    "version": 3
   },
   "file_extension": ".py",
   "mimetype": "text/x-python",
   "name": "python",
   "nbconvert_exporter": "python",
   "pygments_lexer": "ipython3",
   "version": "3.7.10"
  }
 },
 "nbformat": 4,
 "nbformat_minor": 5
}
