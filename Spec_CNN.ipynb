{
 "cells": [
  {
   "cell_type": "markdown",
   "id": "fcbefbf5",
   "metadata": {},
   "source": [
    "- [x] 95% overlap\n",
    "- [x] shorten window (2s)\n",
    "- [x] remove test-train split"
   ]
  },
  {
   "cell_type": "code",
   "execution_count": 54,
   "id": "d42bfcdb",
   "metadata": {},
   "outputs": [],
   "source": [
    "import os\n",
    "import numpy as np\n",
    "import tensorflow as tf\n",
    "from tensorflow import keras\n",
    "from sklearn.model_selection import train_test_split\n",
    "import matplotlib.pyplot as plt\n",
    "import pywt\n",
    "from scipy import signal\n",
    "from tqdm import tqdm\n",
    "\n",
    "%matplotlib inline"
   ]
  },
  {
   "cell_type": "markdown",
   "id": "ee9a0bf1",
   "metadata": {},
   "source": [
    "## Load data"
   ]
  },
  {
   "cell_type": "code",
   "execution_count": 55,
   "id": "6aec38e1",
   "metadata": {},
   "outputs": [],
   "source": [
    "data_path = \"Data/GeneratedData/combined_data/\"\n",
    "base_path = os.getcwd()\n",
    "\n",
    "# REST\n",
    "IDD = np.load(os.path.join(data_path, \"IDD_rest.npy\"))\n",
    "TDC = np.load(os.path.join(data_path, \"TDC_rest.npy\"))\n",
    "\n",
    "# MUSIC\n",
    "# IDD = np.load(os.path.join(data_path, \"IDD_music.npy\"))\n",
    "# TDC = np.load(os.path.join(data_path, \"TDC_music.npy\"))\n",
    "\n",
    "X = np.concatenate((IDD, TDC))\n",
    "Y = [0]*len(IDD) + [1]*len(TDC)\n",
    "Y = np.asarray(Y)"
   ]
  },
  {
   "cell_type": "code",
   "execution_count": 56,
   "id": "cfb0c34e",
   "metadata": {},
   "outputs": [],
   "source": [
    "X = np.asarray(X)\n",
    "Y = np.asarray(Y)\n"
   ]
  },
  {
   "cell_type": "code",
   "execution_count": 57,
   "id": "37df564a",
   "metadata": {},
   "outputs": [
    {
     "name": "stdout",
     "output_type": "stream",
     "text": [
      "(8470, 14, 256)\n",
      "(8470,)\n"
     ]
    }
   ],
   "source": [
    "print(X.shape)\n",
    "print(Y.shape)"
   ]
  },
  {
   "cell_type": "markdown",
   "id": "d82bada5",
   "metadata": {},
   "source": [
    "## Create Spectrograms"
   ]
  },
  {
   "cell_type": "code",
   "execution_count": 58,
   "id": "c63ab96f",
   "metadata": {},
   "outputs": [],
   "source": [
    "# Modified scalogram function from Fusion notebook\n",
    "def scalogram(x, Hz, hz, start_sec, num_secs, w = 5.):\n",
    "    ''' x = time series\n",
    "        Hz = sampling rate in Hz of the input signal\n",
    "        hz = desired sampling rate (by downsampling)\n",
    "        start_sec = starting second in x\n",
    "        num_secs = total number of seconds of our clip\n",
    "        w = width parameter\n",
    "        log =raw_seiz if true take log of spectrum values\n",
    "    '''\n",
    "\n",
    "    downsample = int(round(Hz / hz))\n",
    "    X = x[start_sec * Hz: (start_sec + num_secs) * Hz : downsample]\n",
    "\n",
    "    t, dt = np.linspace(start_sec, start_sec + num_secs, hz * num_secs, retstep = True)\n",
    "    fs = 1 / dt\n",
    "\n",
    "    freq = np.linspace(1, fs / 2, int(hz / 2))\n",
    "    widths = w * fs / (2 * np.pi * freq)\n",
    "\n",
    "    cwtm = signal.cwt(X,\n",
    "                      signal.morlet2,\n",
    "                      widths,\n",
    "                      w = w)\n",
    "    \n",
    "    return cwtm"
   ]
  },
  {
   "cell_type": "code",
   "execution_count": 59,
   "id": "1b9e0a20",
   "metadata": {},
   "outputs": [],
   "source": [
    "def generate_scalogram(data):\n",
    "    scalogram_data = []\n",
    "    for sample in tqdm(data):\n",
    "        scalograms = []\n",
    "        for channel in sample:\n",
    "            scalograms.append(scalogram(channel, 128, 64, 0, 2))\n",
    "        scalogram_data.append(np.concatenate(scalograms))\n",
    "    return np.asarray(scalogram_data)"
   ]
  },
  {
   "cell_type": "code",
   "execution_count": 60,
   "id": "a8cb0d35",
   "metadata": {},
   "outputs": [
    {
     "name": "stderr",
     "output_type": "stream",
     "text": [
      "100%|██████████| 8470/8470 [04:24<00:00, 31.99it/s]\n"
     ]
    }
   ],
   "source": [
    "X_scalogram = generate_scalogram(X)"
   ]
  },
  {
   "cell_type": "code",
   "execution_count": 61,
   "id": "4f33657e",
   "metadata": {},
   "outputs": [
    {
     "data": {
      "text/plain": [
       "(8470, 448, 128)"
      ]
     },
     "execution_count": 61,
     "metadata": {},
     "output_type": "execute_result"
    }
   ],
   "source": [
    "X_scalogram.shape"
   ]
  },
  {
   "cell_type": "code",
   "execution_count": 62,
   "id": "93e6d314",
   "metadata": {},
   "outputs": [
    {
     "data": {
      "text/plain": [
       "(8470, 448, 128, 1)"
      ]
     },
     "execution_count": 62,
     "metadata": {},
     "output_type": "execute_result"
    }
   ],
   "source": [
    "# reshape data\n",
    "X_scalogram = X_scalogram.reshape(X_scalogram.shape[0], X_scalogram.shape[1], X_scalogram.shape[2], 1)\n",
    "X_scalogram.shape"
   ]
  },
  {
   "cell_type": "markdown",
   "id": "50914955",
   "metadata": {},
   "source": [
    "## Test-Train split"
   ]
  },
  {
   "cell_type": "code",
   "execution_count": 63,
   "id": "36368b5f",
   "metadata": {},
   "outputs": [],
   "source": [
    "X_train, X_val, y_train, y_val = train_test_split(X_scalogram, Y, test_size=0.2, random_state=22)"
   ]
  },
  {
   "cell_type": "code",
   "execution_count": 64,
   "id": "fc8758d6",
   "metadata": {},
   "outputs": [],
   "source": [
    "# X_train, X_val, y_train, y_val = train_test_split(X_train, y_train, test_size=0.25, random_state=22)"
   ]
  },
  {
   "cell_type": "code",
   "execution_count": 65,
   "id": "408f7755",
   "metadata": {
    "scrolled": true
   },
   "outputs": [
    {
     "name": "stdout",
     "output_type": "stream",
     "text": [
      "X_train shape: (6776, 448, 128, 1)\n",
      "y_train shape: (6776,)\n",
      "X_val shape: (1694, 448, 128, 1)\n",
      "y_val shape: (1694,)\n"
     ]
    }
   ],
   "source": [
    "print(\"X_train shape:\", X_train.shape)\n",
    "print(\"y_train shape:\", y_train.shape)\n",
    "print(\"X_val shape:\", X_val.shape)\n",
    "print(\"y_val shape:\", y_val.shape)\n",
    "# print(\"X_test shape:\", X_test.shape)\n",
    "# print(\"y_test shape:\", y_test.shape)\n",
    "input_shape = X_train.shape[1:]"
   ]
  },
  {
   "cell_type": "markdown",
   "id": "3de381d5",
   "metadata": {},
   "source": [
    "## Model"
   ]
  },
  {
   "cell_type": "code",
   "execution_count": 66,
   "id": "0fa0fc34",
   "metadata": {},
   "outputs": [],
   "source": [
    "model = keras.Sequential([\n",
    "    # Set input layer\n",
    "    keras.layers.InputLayer(input_shape=input_shape),\n",
    "    \n",
    "    # Conv + Maxpooling\n",
    "    keras.layers.Conv2D(8, (3, 3), padding=\"same\", activation=tf.nn.relu),\n",
    "    keras.layers.MaxPooling2D(pool_size=(2, 2)),\n",
    "    \n",
    "    # Normalization\n",
    "    keras.layers.BatchNormalization(),\n",
    "    \n",
    "    # Flatten and convert from 3D to 1D\n",
    "    keras.layers.Flatten(),\n",
    "    \n",
    "    # Sigmoid\n",
    "    keras.layers.Dense(1, activation=tf.nn.sigmoid)\n",
    "])\n"
   ]
  },
  {
   "cell_type": "code",
   "execution_count": 67,
   "id": "0a166867",
   "metadata": {},
   "outputs": [],
   "source": [
    "model.compile(\n",
    "  optimizer='adam',\n",
    "  loss='binary_crossentropy',\n",
    "  metrics=['accuracy'],\n",
    ")"
   ]
  },
  {
   "cell_type": "code",
   "execution_count": 68,
   "id": "24b7d14d",
   "metadata": {},
   "outputs": [
    {
     "name": "stdout",
     "output_type": "stream",
     "text": [
      "Model: \"sequential_3\"\n",
      "_________________________________________________________________\n",
      "Layer (type)                 Output Shape              Param #   \n",
      "=================================================================\n",
      "conv2d_3 (Conv2D)            (None, 448, 128, 8)       80        \n",
      "_________________________________________________________________\n",
      "max_pooling2d_3 (MaxPooling2 (None, 224, 64, 8)        0         \n",
      "_________________________________________________________________\n",
      "batch_normalization_3 (Batch (None, 224, 64, 8)        32        \n",
      "_________________________________________________________________\n",
      "flatten_3 (Flatten)          (None, 114688)            0         \n",
      "_________________________________________________________________\n",
      "dense_3 (Dense)              (None, 1)                 114689    \n",
      "=================================================================\n",
      "Total params: 114,801\n",
      "Trainable params: 114,785\n",
      "Non-trainable params: 16\n",
      "_________________________________________________________________\n"
     ]
    }
   ],
   "source": [
    "model.summary()"
   ]
  },
  {
   "cell_type": "code",
   "execution_count": 69,
   "id": "35219cc1",
   "metadata": {},
   "outputs": [
    {
     "name": "stdout",
     "output_type": "stream",
     "text": [
      "Train on 6776 samples, validate on 1694 samples\n",
      "Epoch 1/10\n",
      "6776/6776 [==============================] - 105s 15ms/sample - loss: 0.4912 - accuracy: 0.9041 - val_loss: 0.0529 - val_accuracy: 0.9864\n",
      "Epoch 2/10\n",
      "6776/6776 [==============================] - 86s 13ms/sample - loss: 0.0515 - accuracy: 0.9920 - val_loss: 0.0576 - val_accuracy: 0.9864\n",
      "Epoch 3/10\n",
      "6776/6776 [==============================] - 78s 11ms/sample - loss: 0.0222 - accuracy: 0.9928 - val_loss: 0.0427 - val_accuracy: 0.9876\n",
      "Epoch 4/10\n",
      "6776/6776 [==============================] - 79s 12ms/sample - loss: 0.0104 - accuracy: 0.9987 - val_loss: 0.0595 - val_accuracy: 0.9811\n",
      "Epoch 5/10\n",
      "6776/6776 [==============================] - 79s 12ms/sample - loss: 0.0048 - accuracy: 0.9988 - val_loss: 0.0225 - val_accuracy: 0.9947\n",
      "Epoch 6/10\n",
      "6776/6776 [==============================] - 77s 11ms/sample - loss: 0.0021 - accuracy: 1.0000 - val_loss: 0.0186 - val_accuracy: 0.9953\n",
      "Epoch 7/10\n",
      "6776/6776 [==============================] - 76s 11ms/sample - loss: 0.0021 - accuracy: 1.0000 - val_loss: 0.0165 - val_accuracy: 0.9947\n",
      "Epoch 8/10\n",
      "6776/6776 [==============================] - 81s 12ms/sample - loss: 0.0020 - accuracy: 1.0000 - val_loss: 0.0156 - val_accuracy: 0.9941\n",
      "Epoch 9/10\n",
      "6776/6776 [==============================] - 74s 11ms/sample - loss: 0.0018 - accuracy: 1.0000 - val_loss: 0.0146 - val_accuracy: 0.9953\n",
      "Epoch 10/10\n",
      "6776/6776 [==============================] - 79s 12ms/sample - loss: 0.0018 - accuracy: 1.0000 - val_loss: 0.0140 - val_accuracy: 0.9953\n"
     ]
    }
   ],
   "source": [
    "history = model.fit(X_train, \n",
    "                    y_train, \n",
    "                    epochs=10, \n",
    "                    batch_size=256,\n",
    "                    validation_data=(X_val, y_val), \n",
    "                    verbose=1)"
   ]
  },
  {
   "cell_type": "markdown",
   "id": "6bdf38f9",
   "metadata": {},
   "source": [
    "* Music\n",
    "    * Validation accuracy: 99.47%\n",
    "    * Validation loss: 0.0161\n",
    "* Rest\n",
    "    * Validation accuracy: 99.53%\n",
    "    * Validation loss: 0.0140\n"
   ]
  },
  {
   "cell_type": "code",
   "execution_count": 70,
   "id": "f9c6d1a2",
   "metadata": {},
   "outputs": [
    {
     "data": {
      "text/plain": [
       "<matplotlib.legend.Legend at 0x7ff5f0cfffd0>"
      ]
     },
     "execution_count": 70,
     "metadata": {},
     "output_type": "execute_result"
    },
    {
     "data": {
      "image/png": "[encoded data removed]",
      "text/plain": [
       "<Figure size 432x288 with 1 Axes>"
      ]
     },
     "metadata": {
      "needs_background": "light"
     },
     "output_type": "display_data"
    },
    {
     "data": {
      "image/png": "[encoded data removed]",
      "text/plain": [
       "<Figure size 432x288 with 1 Axes>"
      ]
     },
     "metadata": {
      "needs_background": "light"
     },
     "output_type": "display_data"
    }
   ],
   "source": [
    "# Retrieve a list of accuracy results on training and test data\n",
    "# sets for each training epoch\n",
    "acc = history.history['accuracy']\n",
    "val_acc = history.history['val_accuracy']\n",
    "\n",
    "# Retrieve a list of list results on training and test data\n",
    "# sets for each training epoch\n",
    "loss = history.history['loss']\n",
    "val_loss = history.history['val_loss']\n",
    "\n",
    "# Get number of epochs\n",
    "epochs = range(len(acc))\n",
    "\n",
    "# Plot training and validation accuracy per epoch\n",
    "plt.plot(epochs, acc)\n",
    "plt.plot(epochs, val_acc)\n",
    "plt.title('Training and validation accuracy')\n",
    "plt.legend(['train', 'val'], loc='upper left')\n",
    "# plt.legend(['train'], loc='upper left')\n",
    "\n",
    "\n",
    "plt.figure()\n",
    "\n",
    "# Plot training and validation loss per epoch\n",
    "plt.plot(epochs, loss)\n",
    "plt.plot(epochs, val_loss)\n",
    "plt.title('Training and validation loss')\n",
    "plt.legend(['train', 'val'], loc='upper left')\n",
    "# plt.legend(['train'], loc='upper left')"
   ]
  },
  {
   "cell_type": "code",
   "execution_count": 71,
   "id": "4991ba59",
   "metadata": {},
   "outputs": [],
   "source": [
    "# test_loss, test_acc = model.evaluate(X_test, y_test)\n",
    "#\n",
    "# print('Test accuracy:', test_acc)\n",
    "# print('Test loss:', test_loss)"
   ]
  }
 ],
 "metadata": {
  "kernelspec": {
   "display_name": "Python 3",
   "language": "python",
   "name": "python3"
  },
  "language_info": {
   "codemirror_mode": {
    "name": "ipython",
    "version": 3
   },
   "file_extension": ".py",
   "mimetype": "text/x-python",
   "name": "python",
   "nbconvert_exporter": "python",
   "pygments_lexer": "ipython3",
   "version": "3.7.10"
  }
 },
 "nbformat": 4,
 "nbformat_minor": 5
}