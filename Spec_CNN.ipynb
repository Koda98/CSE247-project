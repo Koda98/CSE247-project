{
 "cells": [
  {
   "cell_type": "code",
   "execution_count": 1,
   "id": "c493a10b",
   "metadata": {},
   "outputs": [],
   "source": [
    "# 95% overlap\n",
    "# shorten window (2s)\n",
    "# remove test-train split"
   ]
  },
  {
   "cell_type": "code",
   "execution_count": 2,
   "id": "d42bfcdb",
   "metadata": {},
   "outputs": [],
   "source": [
    "import os\n",
    "import numpy as np\n",
    "import tensorflow as tf\n",
    "from tensorflow import keras\n",
    "from sklearn.model_selection import train_test_split\n",
    "import matplotlib.pyplot as plt\n",
    "import pywt\n",
    "from scipy import signal\n"
   ]
  },
  {
   "cell_type": "markdown",
   "id": "ee9a0bf1",
   "metadata": {},
   "source": [
    "## Load data"
   ]
  },
  {
   "cell_type": "code",
   "execution_count": 3,
   "id": "6aec38e1",
   "metadata": {},
   "outputs": [],
   "source": [
    "data_path = \"Data/GeneratedData/combined_data/\"\n",
    "base_path = os.getcwd()\n",
    "\n",
    "# REST\n",
    "# IDD = np.load(os.path.join(data_path, \"IDD_rest.npy\"))\n",
    "# TDC = np.load(os.path.join(data_path, \"TDC_rest.npy\"))\n",
    "\n",
    "# MUSIC\n",
    "IDD = np.load(os.path.join(data_path, \"IDD_music.npy\"))\n",
    "TDC = np.load(os.path.join(data_path, \"TDC_music.npy\"))\n",
    "\n",
    "X = np.concatenate((IDD, TDC))\n",
    "Y = [0]*len(TDC) + [1]*len(IDD)\n",
    "Y = np.asarray(Y)"
   ]
  },
  {
   "cell_type": "code",
   "execution_count": 4,
   "id": "cfb0c34e",
   "metadata": {},
   "outputs": [],
   "source": [
    "X = np.asarray(X)\n",
    "Y = np.asarray(Y)\n"
   ]
  },
  {
   "cell_type": "code",
   "execution_count": 5,
   "id": "37df564a",
   "metadata": {},
   "outputs": [
    {
     "name": "stdout",
     "output_type": "stream",
     "text": [
      "(3220, 14, 640)\n",
      "(3220,)\n"
     ]
    }
   ],
   "source": [
    "print(X.shape)\n",
    "print(Y.shape)"
   ]
  },
  {
   "cell_type": "markdown",
   "id": "d82bada5",
   "metadata": {},
   "source": [
    "## Create Spectrograms"
   ]
  },
  {
   "cell_type": "code",
   "execution_count": 6,
   "id": "c63ab96f",
   "metadata": {},
   "outputs": [],
   "source": [
    "# Modified scalogram function from Fusion notebook\n",
    "def scalogram(x, Hz, hz, start_sec, num_secs, w = 5.):\n",
    "    ''' x = time series\n",
    "        Hz = sampling rate in Hz of the input signal\n",
    "        hz = desired sampling rate (by downsampling)\n",
    "        start_sec = starting second in x\n",
    "        num_secs = total number of seconds of our clip\n",
    "        w = width parameter\n",
    "        log =raw_seiz if true take log of spectrum values\n",
    "    '''\n",
    "\n",
    "    downsample = int(round(Hz / hz))\n",
    "    X = x[start_sec * Hz: (start_sec + num_secs) * Hz : downsample]\n",
    "\n",
    "    t, dt = np.linspace(start_sec, start_sec + num_secs, hz * num_secs, retstep = True)\n",
    "    fs = 1 / dt\n",
    "\n",
    "    freq = np.linspace(1, fs / 2, int(hz / 2))\n",
    "    widths = w * fs / (2 * np.pi * freq)\n",
    "\n",
    "    cwtm = signal.cwt(X,\n",
    "                      signal.morlet2,\n",
    "                      widths,\n",
    "                      w = w)\n",
    "    \n",
    "    return cwtm"
   ]
  },
  {
   "cell_type": "code",
   "execution_count": 7,
   "id": "1b9e0a20",
   "metadata": {},
   "outputs": [],
   "source": [
    "def generate_scalogram(data):\n",
    "    scalogram_data = []\n",
    "    for sample in data:\n",
    "        scalograms = []\n",
    "        for channel in sample:\n",
    "            scalograms.append(scalogram(channel, 128, 64, 0, 5))\n",
    "        scalogram_data.append(np.concatenate(scalograms))\n",
    "    return np.asarray(scalogram_data)"
   ]
  },
  {
   "cell_type": "code",
   "execution_count": 8,
   "id": "a8cb0d35",
   "metadata": {},
   "outputs": [],
   "source": [
    "X_scalogram = generate_scalogram(X)"
   ]
  },
  {
   "cell_type": "code",
   "execution_count": 9,
   "id": "4f33657e",
   "metadata": {},
   "outputs": [
    {
     "data": {
      "text/plain": [
       "(3220, 448, 320)"
      ]
     },
     "execution_count": 9,
     "metadata": {},
     "output_type": "execute_result"
    }
   ],
   "source": [
    "X_scalogram.shape"
   ]
  },
  {
   "cell_type": "code",
   "execution_count": 10,
   "id": "93e6d314",
   "metadata": {},
   "outputs": [
    {
     "data": {
      "text/plain": [
       "(3220, 448, 320, 1)"
      ]
     },
     "execution_count": 10,
     "metadata": {},
     "output_type": "execute_result"
    }
   ],
   "source": [
    "# reshape data\n",
    "X_scalogram = X_scalogram.reshape(X_scalogram.shape[0], X_scalogram.shape[1], X_scalogram.shape[2], 1)\n",
    "X_scalogram.shape"
   ]
  },
  {
   "cell_type": "markdown",
   "id": "50914955",
   "metadata": {},
   "source": [
    "## Test-Train split"
   ]
  },
  {
   "cell_type": "code",
   "execution_count": 11,
   "id": "36368b5f",
   "metadata": {},
   "outputs": [],
   "source": [
    "X_train, X_test, y_train, y_test = train_test_split(X_scalogram, Y, test_size=0.2, random_state=22)"
   ]
  },
  {
   "cell_type": "code",
   "execution_count": 12,
   "id": "fc8758d6",
   "metadata": {},
   "outputs": [],
   "source": [
    "X_train, X_val, y_train, y_val = train_test_split(X_train, y_train, test_size=0.25, random_state=22)"
   ]
  },
  {
   "cell_type": "code",
   "execution_count": 13,
   "id": "408f7755",
   "metadata": {
    "scrolled": true
   },
   "outputs": [
    {
     "name": "stdout",
     "output_type": "stream",
     "text": [
      "X_train shape: (1932, 448, 320, 1)\n",
      "y_train shape: (1932,)\n",
      "X_val shape: (644, 448, 320, 1)\n",
      "y_val shape: (644,)\n",
      "X_test shape: (644, 448, 320, 1)\n",
      "y_test shape: (644,)\n"
     ]
    }
   ],
   "source": [
    "print(\"X_train shape:\", X_train.shape)\n",
    "print(\"y_train shape:\", y_train.shape)\n",
    "print(\"X_val shape:\", X_val.shape)\n",
    "print(\"y_val shape:\", y_val.shape)\n",
    "print(\"X_test shape:\", X_test.shape)\n",
    "print(\"y_test shape:\", y_test.shape)\n"
   ]
  },
  {
   "cell_type": "markdown",
   "id": "3de381d5",
   "metadata": {},
   "source": [
    "## Model"
   ]
  },
  {
   "cell_type": "code",
   "execution_count": 14,
   "id": "0fa0fc34",
   "metadata": {},
   "outputs": [],
   "source": [
    "model = keras.Sequential([\n",
    "    # Set input layer\n",
    "    keras.layers.InputLayer(input_shape=(448, 320, 1)),\n",
    "    \n",
    "    # Conv + Maxpooling\n",
    "    keras.layers.Conv2D(8, (3, 3), padding=\"same\", activation=tf.nn.relu),\n",
    "    keras.layers.MaxPooling2D(pool_size=(2, 2)),\n",
    "    \n",
    "    # Normalization\n",
    "    keras.layers.BatchNormalization(),\n",
    "    \n",
    "    # Flatten and convert from 3D to 1D\n",
    "    keras.layers.Flatten(),\n",
    "    \n",
    "    # Sigmoid\n",
    "    keras.layers.Dense(1, activation=tf.nn.sigmoid)\n",
    "])\n"
   ]
  },
  {
   "cell_type": "code",
   "execution_count": 15,
   "id": "0a166867",
   "metadata": {},
   "outputs": [],
   "source": [
    "model.compile(\n",
    "  optimizer='adam',\n",
    "  loss='binary_crossentropy',\n",
    "  metrics=['accuracy'],\n",
    ")"
   ]
  },
  {
   "cell_type": "code",
   "execution_count": 16,
   "id": "24b7d14d",
   "metadata": {},
   "outputs": [
    {
     "name": "stdout",
     "output_type": "stream",
     "text": [
      "Model: \"sequential\"\n",
      "_________________________________________________________________\n",
      "Layer (type)                 Output Shape              Param #   \n",
      "=================================================================\n",
      "conv2d (Conv2D)              (None, 448, 320, 8)       80        \n",
      "_________________________________________________________________\n",
      "max_pooling2d (MaxPooling2D) (None, 224, 160, 8)       0         \n",
      "_________________________________________________________________\n",
      "batch_normalization (BatchNo (None, 224, 160, 8)       32        \n",
      "_________________________________________________________________\n",
      "flatten (Flatten)            (None, 286720)            0         \n",
      "_________________________________________________________________\n",
      "dense (Dense)                (None, 1)                 286721    \n",
      "=================================================================\n",
      "Total params: 286,833\n",
      "Trainable params: 286,817\n",
      "Non-trainable params: 16\n",
      "_________________________________________________________________\n"
     ]
    }
   ],
   "source": [
    "model.summary()"
   ]
  },
  {
   "cell_type": "code",
   "execution_count": 17,
   "id": "35219cc1",
   "metadata": {},
   "outputs": [
    {
     "name": "stdout",
     "output_type": "stream",
     "text": [
      "Train on 1932 samples, validate on 644 samples\n",
      "Epoch 1/10\n",
      "1932/1932 [==============================] - 95s 49ms/sample - loss: 1.1769 - accuracy: 0.8333 - val_loss: 0.3146 - val_accuracy: 0.9814\n",
      "Epoch 2/10\n",
      "1932/1932 [==============================] - 106s 55ms/sample - loss: 0.0334 - accuracy: 0.9964 - val_loss: 9.4816 - val_accuracy: 0.7748\n",
      "Epoch 3/10\n",
      "1932/1932 [==============================] - 114s 59ms/sample - loss: 0.0026 - accuracy: 0.9990 - val_loss: 9.0687 - val_accuracy: 0.7624\n",
      "Epoch 4/10\n",
      "1932/1932 [==============================] - 135s 70ms/sample - loss: 0.0028 - accuracy: 0.9990 - val_loss: 4.9206 - val_accuracy: 0.8230\n",
      "Epoch 5/10\n",
      "1932/1932 [==============================] - 118s 61ms/sample - loss: 4.6628e-05 - accuracy: 1.0000 - val_loss: 2.9516 - val_accuracy: 0.8773\n",
      "Epoch 6/10\n",
      "1932/1932 [==============================] - 129s 67ms/sample - loss: 7.2761e-06 - accuracy: 1.0000 - val_loss: 1.9907 - val_accuracy: 0.8960\n",
      "Epoch 7/10\n",
      "1932/1932 [==============================] - 133s 69ms/sample - loss: 2.2625e-06 - accuracy: 1.0000 - val_loss: 1.4241 - val_accuracy: 0.9224\n",
      "Epoch 8/10\n",
      "1932/1932 [==============================] - 124s 64ms/sample - loss: 8.2048e-07 - accuracy: 1.0000 - val_loss: 1.0475 - val_accuracy: 0.9286\n",
      "Epoch 9/10\n",
      "1932/1932 [==============================] - 164s 85ms/sample - loss: 1.0915e-06 - accuracy: 1.0000 - val_loss: 0.7768 - val_accuracy: 0.9441\n",
      "Epoch 10/10\n",
      "1932/1932 [==============================] - 161s 83ms/sample - loss: 2.4122e-06 - accuracy: 1.0000 - val_loss: 0.5929 - val_accuracy: 0.9565\n"
     ]
    }
   ],
   "source": [
    "history = model.fit(X_train, \n",
    "                    y_train, \n",
    "                    epochs=10, \n",
    "                    batch_size=256,\n",
    "                    validation_data=(X_val, y_val), \n",
    "                    verbose=1)"
   ]
  },
  {
   "cell_type": "code",
   "execution_count": 18,
   "id": "f9c6d1a2",
   "metadata": {},
   "outputs": [
    {
     "data": {
      "text/plain": [
       "<matplotlib.legend.Legend at 0x7fd975ba5310>"
      ]
     },
     "execution_count": 18,
     "metadata": {},
     "output_type": "execute_result"
    },
    {
     "data": {
      "image/png": "[encoded data removed]",
      "text/plain": [
       "<Figure size 432x288 with 1 Axes>"
      ]
     },
     "metadata": {
      "needs_background": "light"
     },
     "output_type": "display_data"
    },
    {
     "data": {
      "image/png": "[encoded data removed]",
      "text/plain": [
       "<Figure size 432x288 with 1 Axes>"
      ]
     },
     "metadata": {
      "needs_background": "light"
     },
     "output_type": "display_data"
    }
   ],
   "source": [
    "# Retrieve a list of accuracy results on training and test data\n",
    "# sets for each training epoch\n",
    "acc = history.history['accuracy']\n",
    "val_acc = history.history['val_accuracy']\n",
    "\n",
    "# Retrieve a list of list results on training and test data\n",
    "# sets for each training epoch\n",
    "loss = history.history['loss']\n",
    "val_loss = history.history['val_loss']\n",
    "\n",
    "# Get number of epochs\n",
    "epochs = range(len(acc))\n",
    "\n",
    "# Plot training and validation accuracy per epoch\n",
    "plt.plot(epochs, acc)\n",
    "plt.plot(epochs, val_acc)\n",
    "plt.title('Training and validation accuracy')\n",
    "plt.legend(['train', 'val'], loc='upper left')\n",
    "# plt.legend(['train'], loc='upper left')\n",
    "\n",
    "\n",
    "plt.figure()\n",
    "\n",
    "# Plot training and validation loss per epoch\n",
    "plt.plot(epochs, loss)\n",
    "plt.plot(epochs, val_loss)\n",
    "plt.title('Training and validation loss')\n",
    "plt.legend(['train', 'val'], loc='upper left')\n",
    "# plt.legend(['train'], loc='upper left')"
   ]
  },
  {
   "cell_type": "code",
   "execution_count": 19,
   "id": "4991ba59",
   "metadata": {},
   "outputs": [
    {
     "name": "stdout",
     "output_type": "stream",
     "text": [
      "\r",
      "644/1 [========================================================================================================================================================================================================================================================================================================================================================================================================================================================================================================================================================================================================================================================================================================================================================================================================================================================================================================================================================================================================================================================================================================================================================================================================================================================================================================================================================================================================================================================================================================================================================================================================================================================================================================================================================================================================================================================================================================================================================================================================================================================================================================================================================================================================================================================================================================================================================================================================================================================================================================================================================================================================================================================================================================================================================================================================================================================================================================================================================================================================================================================================================================================================================================================================================================================================================================================================================================================================================================================================================================================================================================================================================================================================================================================================================================================================================================================================================================================================================================================================================================================================================================================================================================================================================================================================================================================================================================================================================================================================================================================================================================================================================================================================================================================================================================================================================================================================================================================================================================================================================================================================================================================================================================================================================================================================================================================================================================================================================================================================================================================================================================================================================================================================================================================================================================================================================================================================================================================================================================================================================================================================================================================================================================================================================================================================================================================================================================================================================================================================================================================================================================================================================================================================================================================================================================================================================================================================================================================================================================================================================================================================================================================================================================================================================================================================================================================================================================================================================================================================================================================================================================================================================================================================================================================================================================================================================================================================================================================================================================================================================================================================================================================================================================================================================================================================================================================================================================================================================================================================================================================================================================================================================================================================================================================================================================================================================================================================================================================================================================================================================================================================================================================================================================================================================================================================================================================================================================================================================================================================================================================================================================================================================================================================================================================================================================================================================================================================================================================================================================================================================================================================================================================================================================================================================================================================================================================================================================================================================================================================================================================================================================================================================================================================================================================================================================================================================================================================================================================================================================================================================================================================================================================================================================================================================================================================================================================================================================================================================================================================================================================================================================================================================================================================================================================================================================================================================================================================================================================================================================================================================================================================================================================================================================================================================================================================================================================================================================================================================================================================================================================================================================================================================================================================================================================================================================================================================================================================================================================================================================================================================================================================================================================================================================================================================================================================================================================================================================================================================================================================================================================================================================================================================================================================================================================================================================================================================================================================================================================================================================================================================================================================================================================================================================================================================================================================================================================================================================================================================================================================================================================================================================================================================================================================================================================================================================================================================================================================================================================================================================================================================================================================================================================================================================================================================================================================================================================================================================================================================================================================================================================================================================================================================================================================================================================================================================================================================================================================================================================================================================================================================================================================================================================================================================================================================================================================================================================================================================================================================================================================================================================================================================================================================================================================================================================================================================================================================================================================================================================================================================================================================================================================================================================================================================================================================================================================================================================================================================================================================================================================================================================================================================================================================================================================================================================================================================================================================================================================================================================================================================================================================================================================================================================================================================================================================================================================================================================================================================================================================================================================================================================================================================================================================================================================================================================================================================================================================================================================================================================================================================================================================================================================================================================================================================================================================================================================================================================================================================================================================================================================================================================================================================================================================================================================================================================================================================================================================================================================================================================================================================================================================================================================================================================] - 8s 12ms/sample - loss: 0.3212 - accuracy: 0.9534\n"
     ]
    },
    {
     "name": "stdout",
     "output_type": "stream",
     "text": [
      "Test accuracy: 0.95341617\n",
      "Test loss: 0.6424086706994675\n"
     ]
    }
   ],
   "source": [
    "test_loss, test_acc = model.evaluate(X_test, y_test)\n",
    "\n",
    "print('Test accuracy:', test_acc)\n",
    "print('Test loss:', test_loss)"
   ]
  },
  {
   "cell_type": "markdown",
   "id": "c9f8d587",
   "metadata": {},
   "source": [
    "## Other functions"
   ]
  },
  {
   "cell_type": "code",
   "execution_count": 20,
   "id": "f9452c40",
   "metadata": {},
   "outputs": [],
   "source": [
    "import pywt\n",
    "\n",
    "def wavelet_coefs(data,func, wavelet_name='db4'):\n",
    "    coefs = pywt.wavedec(data, wavelet=wavelet_name, level=None)\n",
    "    n_channels, n_times = data.shape\n",
    "    levdec = len(coefs) - 1\n",
    "\n",
    "    wavelet_energy = np.zeros((n_channels, levdec))\n",
    "    for j in range(n_channels):\n",
    "        for l in range(levdec):\n",
    "            if func=='energy':\n",
    "                wavelet_energy[j, l] = np.sum(coefs[levdec - l][j, :] ** 2)\n",
    "            else:\n",
    "                wavelet_energy[j, l] = func(coefs[levdec - l][j, :])\n",
    "    return wavelet_energy.ravel()"
   ]
  },
  {
   "cell_type": "code",
   "execution_count": 21,
   "id": "f97aa873",
   "metadata": {},
   "outputs": [],
   "source": [
    "def calculate_features(func):\n",
    "    features1=[]\n",
    "    features2=[]\n",
    "    for k in tqdm(range(7)):\n",
    "        feature1=[]\n",
    "        feature2=[]\n",
    "        for i in range(30):  \n",
    "            feature1.append(wavelet_coefs(IDD_rest[k][i],func=func))\n",
    "            feature2.append(wavelet_coefs(TDC_rest[k][i],func=func))\n",
    "        features1.append(np.array(feature1))\n",
    "        features2.append(np.array(feature2))\n",
    "    x1=np.array(features1)        \n",
    "    x2=np.array(features2) \n",
    "    y=np.concatenate(((np.zeros(x1.shape[0])),(np.ones(x2.shape[0]))))\n",
    "    X=np.concatenate((x1,x2),axis=0)\n",
    "    return X,y"
   ]
  },
  {
   "cell_type": "code",
   "execution_count": 22,
   "id": "c03f1462",
   "metadata": {},
   "outputs": [
    {
     "ename": "NameError",
     "evalue": "name 'tqdm' is not defined",
     "output_type": "error",
     "traceback": [
      "\u001b[0;31m---------------------------------------------------------------------------\u001b[0m",
      "\u001b[0;31mNameError\u001b[0m                                 Traceback (most recent call last)",
      "\u001b[0;32m<ipython-input-22-4c94ac29a855>\u001b[0m in \u001b[0;36m<module>\u001b[0;34m\u001b[0m\n\u001b[0;32m----> 1\u001b[0;31m \u001b[0mX\u001b[0m\u001b[0;34m,\u001b[0m \u001b[0my\u001b[0m \u001b[0;34m=\u001b[0m \u001b[0mcalculate_features\u001b[0m\u001b[0;34m(\u001b[0m\u001b[0mnp\u001b[0m\u001b[0;34m.\u001b[0m\u001b[0mmean\u001b[0m\u001b[0;34m)\u001b[0m\u001b[0;34m\u001b[0m\u001b[0;34m\u001b[0m\u001b[0m\n\u001b[0m",
      "\u001b[0;32m<ipython-input-21-28dd1b4223a1>\u001b[0m in \u001b[0;36mcalculate_features\u001b[0;34m(func)\u001b[0m\n\u001b[1;32m      2\u001b[0m     \u001b[0mfeatures1\u001b[0m\u001b[0;34m=\u001b[0m\u001b[0;34m[\u001b[0m\u001b[0;34m]\u001b[0m\u001b[0;34m\u001b[0m\u001b[0;34m\u001b[0m\u001b[0m\n\u001b[1;32m      3\u001b[0m     \u001b[0mfeatures2\u001b[0m\u001b[0;34m=\u001b[0m\u001b[0;34m[\u001b[0m\u001b[0;34m]\u001b[0m\u001b[0;34m\u001b[0m\u001b[0;34m\u001b[0m\u001b[0m\n\u001b[0;32m----> 4\u001b[0;31m     \u001b[0;32mfor\u001b[0m \u001b[0mk\u001b[0m \u001b[0;32min\u001b[0m \u001b[0mtqdm\u001b[0m\u001b[0;34m(\u001b[0m\u001b[0mrange\u001b[0m\u001b[0;34m(\u001b[0m\u001b[0;36m7\u001b[0m\u001b[0;34m)\u001b[0m\u001b[0;34m)\u001b[0m\u001b[0;34m:\u001b[0m\u001b[0;34m\u001b[0m\u001b[0;34m\u001b[0m\u001b[0m\n\u001b[0m\u001b[1;32m      5\u001b[0m         \u001b[0mfeature1\u001b[0m\u001b[0;34m=\u001b[0m\u001b[0;34m[\u001b[0m\u001b[0;34m]\u001b[0m\u001b[0;34m\u001b[0m\u001b[0;34m\u001b[0m\u001b[0m\n\u001b[1;32m      6\u001b[0m         \u001b[0mfeature2\u001b[0m\u001b[0;34m=\u001b[0m\u001b[0;34m[\u001b[0m\u001b[0;34m]\u001b[0m\u001b[0;34m\u001b[0m\u001b[0;34m\u001b[0m\u001b[0m\n",
      "\u001b[0;31mNameError\u001b[0m: name 'tqdm' is not defined"
     ]
    }
   ],
   "source": [
    "X, y = calculate_features(np.mean)"
   ]
  }
 ],
 "metadata": {
  "kernelspec": {
   "display_name": "Python 3",
   "language": "python",
   "name": "python3"
  },
  "language_info": {
   "codemirror_mode": {
    "name": "ipython",
    "version": 3
   },
   "file_extension": ".py",
   "mimetype": "text/x-python",
   "name": "python",
   "nbconvert_exporter": "python",
   "pygments_lexer": "ipython3",
   "version": "3.7.10"
  }
 },
 "nbformat": 4,
 "nbformat_minor": 5
}
