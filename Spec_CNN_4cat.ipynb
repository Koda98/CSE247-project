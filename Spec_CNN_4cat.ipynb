{
 "cells": [
  {
   "cell_type": "markdown",
   "id": "69ffa6af",
   "metadata": {},
   "source": [
    "This notebook predicts on 4 categories: IDD & music, IDD & rest, TDC & music, TDC & rest"
   ]
  },
  {
   "cell_type": "code",
   "execution_count": 1,
   "id": "d42bfcdb",
   "metadata": {},
   "outputs": [],
   "source": [
    "import os\n",
    "import numpy as np\n",
    "import tensorflow as tf\n",
    "from tensorflow import keras\n",
    "# from tensorflow.keras.utils import np_utils\n",
    "from sklearn.model_selection import train_test_split\n",
    "from sklearn.preprocessing import LabelBinarizer\n",
    "import matplotlib.pyplot as plt\n",
    "import pywt\n",
    "from scipy import signal\n",
    "from tqdm import tqdm\n",
    "\n",
    "%matplotlib inline"
   ]
  },
  {
   "cell_type": "markdown",
   "id": "ee9a0bf1",
   "metadata": {},
   "source": [
    "## Load data"
   ]
  },
  {
   "cell_type": "code",
   "execution_count": 2,
   "id": "6aec38e1",
   "metadata": {},
   "outputs": [],
   "source": [
    "data_path = \"Data/GeneratedData/combined_data/\"\n",
    "base_path = os.getcwd()\n",
    "\n",
    "# REST\n",
    "IDD_rest = np.load(os.path.join(data_path, \"IDD_rest.npy\"))\n",
    "TDC_rest = np.load(os.path.join(data_path, \"TDC_rest.npy\"))\n",
    "\n",
    "# MUSIC\n",
    "IDD_music = np.load(os.path.join(data_path, \"IDD_music.npy\"))\n",
    "TDC_music = np.load(os.path.join(data_path, \"TDC_music.npy\"))\n",
    "\n",
    "X = np.concatenate((IDD_rest, TDC_rest, IDD_music, IDD_rest))\n",
    "Y = [0]*len(IDD_rest) + [1]*len(TDC_rest) + [2]*len(IDD_music) + [3]*len(TDC_music)\n",
    "  \n",
    "Y = np.asarray(Y)\n",
    "Y = LabelBinarizer().fit_transform(Y)"
   ]
  },
  {
   "cell_type": "code",
   "execution_count": 3,
   "id": "cfb0c34e",
   "metadata": {},
   "outputs": [],
   "source": [
    "# X = np.asarray(X)\n",
    "# Y = np.asarray(Y)\n"
   ]
  },
  {
   "cell_type": "code",
   "execution_count": 4,
   "id": "37df564a",
   "metadata": {},
   "outputs": [
    {
     "name": "stdout",
     "output_type": "stream",
     "text": [
      "(16940, 14, 256)\n",
      "(16940, 4)\n"
     ]
    }
   ],
   "source": [
    "print(X.shape)\n",
    "print(Y.shape)"
   ]
  },
  {
   "cell_type": "markdown",
   "id": "d82bada5",
   "metadata": {},
   "source": [
    "## Create Spectrograms"
   ]
  },
  {
   "cell_type": "code",
   "execution_count": 21,
   "id": "c63ab96f",
   "metadata": {},
   "outputs": [],
   "source": [
    "# Modified scalogram function from Fusion notebook\n",
    "def scalogram(x, Hz, hz, start_sec, num_secs, w = 5.):\n",
    "    ''' x = time series\n",
    "        Hz = sampling rate in Hz of the input signal\n",
    "        hz = desired sampling rate (by downsampling)\n",
    "        start_sec = starting second in x\n",
    "        num_secs = total number of seconds of our clip\n",
    "        w = width parameter\n",
    "        log =raw_seiz if true take log of spectrum values\n",
    "    '''\n",
    "\n",
    "    downsample = int(round(Hz / hz))\n",
    "    X = x[start_sec * Hz: (start_sec + num_secs) * Hz : downsample]\n",
    "\n",
    "    t, dt = np.linspace(start_sec, start_sec + num_secs, hz * num_secs, retstep = True)\n",
    "    fs = 1 / dt\n",
    "\n",
    "    freq = np.linspace(1, fs / 2, int(hz / 2))\n",
    "    widths = w * fs / (2 * np.pi * freq)\n",
    "\n",
    "    cwtm = signal.cwt(X,\n",
    "                      signal.morlet2,\n",
    "                      widths,\n",
    "                      w = w)\n",
    "    return cwtm"
   ]
  },
  {
   "cell_type": "code",
   "execution_count": 25,
   "id": "1b9e0a20",
   "metadata": {},
   "outputs": [],
   "source": [
    "def generate_scalogram(data):\n",
    "    scalogram_data = []\n",
    "    for sample in tqdm(data):\n",
    "        scalograms = []\n",
    "        for channel in sample:\n",
    "            scalograms.append(scalogram(channel, 128, 64, 0, 2))\n",
    "        scalogram_data.append(np.concatenate(scalograms))\n",
    "    return np.asarray(scalogram_data)\n",
    "\n"
   ]
  },
  {
   "cell_type": "code",
   "execution_count": 26,
   "id": "be7b629d",
   "metadata": {},
   "outputs": [],
   "source": [
    "def generate_scalogram_np(data):\n",
    "    scalogram_data = np.zeros((data.shape[0], data.shape[1], 32, 128))\n",
    "    for sample in tqdm(range(data.shape[0])):\n",
    "        for channel in range(data.shape[1]):\n",
    "            scalogram_data[sample, channel] = scalogram(data[sample][channel], 128, 64, 0, 2)\n",
    "    return scalogram_data"
   ]
  },
  {
   "cell_type": "code",
   "execution_count": 31,
   "id": "a8cb0d35",
   "metadata": {},
   "outputs": [
    {
     "name": "stderr",
     "output_type": "stream",
     "text": [
      "100%|██████████| 16940/16940 [08:44<00:00, 32.30it/s]\n"
     ]
    }
   ],
   "source": [
    "X_scalogram = generate_scalogram(X)"
   ]
  },
  {
   "cell_type": "code",
   "execution_count": 32,
   "id": "4f33657e",
   "metadata": {},
   "outputs": [
    {
     "data": {
      "text/plain": [
       "(16940, 448, 128)"
      ]
     },
     "execution_count": 32,
     "metadata": {},
     "output_type": "execute_result"
    }
   ],
   "source": [
    "X_scalogram.shape"
   ]
  },
  {
   "cell_type": "code",
   "execution_count": 34,
   "id": "93e6d314",
   "metadata": {},
   "outputs": [
    {
     "data": {
      "text/plain": [
       "(16940, 448, 128, 1)"
      ]
     },
     "execution_count": 34,
     "metadata": {},
     "output_type": "execute_result"
    }
   ],
   "source": [
    "# reshape data\n",
    "X_scalogram = X_scalogram.reshape(X_scalogram.shape[0], X_scalogram.shape[1], X_scalogram.shape[2], 1)\n",
    "X_scalogram.shape"
   ]
  },
  {
   "cell_type": "markdown",
   "id": "50914955",
   "metadata": {},
   "source": [
    "## Test-Train split"
   ]
  },
  {
   "cell_type": "code",
   "execution_count": 35,
   "id": "36368b5f",
   "metadata": {},
   "outputs": [],
   "source": [
    "X_train, X_val, y_train, y_val = train_test_split(X_scalogram, Y, test_size=0.2, random_state=22)"
   ]
  },
  {
   "cell_type": "code",
   "execution_count": 64,
   "id": "fc8758d6",
   "metadata": {},
   "outputs": [],
   "source": [
    "# X_train, X_val, y_train, y_val = train_test_split(X_train, y_train, test_size=0.25, random_state=22)"
   ]
  },
  {
   "cell_type": "code",
   "execution_count": 36,
   "id": "408f7755",
   "metadata": {
    "scrolled": true
   },
   "outputs": [
    {
     "name": "stdout",
     "output_type": "stream",
     "text": [
      "X_train shape: (13552, 448, 128, 1)\n",
      "y_train shape: (13552, 4)\n",
      "X_val shape: (3388, 448, 128, 1)\n",
      "y_val shape: (3388, 4)\n"
     ]
    }
   ],
   "source": [
    "print(\"X_train shape:\", X_train.shape)\n",
    "print(\"y_train shape:\", y_train.shape)\n",
    "print(\"X_val shape:\", X_val.shape)\n",
    "print(\"y_val shape:\", y_val.shape)\n",
    "# print(\"X_test shape:\", X_test.shape)\n",
    "# print(\"y_test shape:\", y_test.shape)\n",
    "input_shape = X_train.shape[1:]"
   ]
  },
  {
   "cell_type": "markdown",
   "id": "3de381d5",
   "metadata": {},
   "source": [
    "## Model"
   ]
  },
  {
   "cell_type": "code",
   "execution_count": 37,
   "id": "0fa0fc34",
   "metadata": {},
   "outputs": [],
   "source": [
    "model = keras.Sequential([\n",
    "    # Set input layer\n",
    "    keras.layers.InputLayer(input_shape=input_shape),\n",
    "    \n",
    "    # Conv + Maxpooling\n",
    "    keras.layers.Conv2D(8, (3, 3), padding=\"same\", activation=tf.nn.relu),\n",
    "    keras.layers.MaxPooling2D(pool_size=(2, 2)),\n",
    "    \n",
    "    # Normalization\n",
    "    keras.layers.BatchNormalization(),\n",
    "    \n",
    "    # Flatten and convert from 3D to 1D\n",
    "    keras.layers.Flatten(),\n",
    "    \n",
    "    # Sigmoid\n",
    "    keras.layers.Dense(4, activation=tf.nn.softmax)\n",
    "])\n"
   ]
  },
  {
   "cell_type": "code",
   "execution_count": 38,
   "id": "0a166867",
   "metadata": {},
   "outputs": [],
   "source": [
    "model.compile(\n",
    "  optimizer='adam',\n",
    "  loss='categorical_crossentropy',\n",
    "  metrics=['accuracy'],\n",
    ")"
   ]
  },
  {
   "cell_type": "code",
   "execution_count": 39,
   "id": "24b7d14d",
   "metadata": {},
   "outputs": [
    {
     "name": "stdout",
     "output_type": "stream",
     "text": [
      "Model: \"sequential\"\n",
      "_________________________________________________________________\n",
      "Layer (type)                 Output Shape              Param #   \n",
      "=================================================================\n",
      "conv2d (Conv2D)              (None, 448, 128, 8)       80        \n",
      "_________________________________________________________________\n",
      "max_pooling2d (MaxPooling2D) (None, 224, 64, 8)        0         \n",
      "_________________________________________________________________\n",
      "batch_normalization (BatchNo (None, 224, 64, 8)        32        \n",
      "_________________________________________________________________\n",
      "flatten (Flatten)            (None, 114688)            0         \n",
      "_________________________________________________________________\n",
      "dense (Dense)                (None, 4)                 458756    \n",
      "=================================================================\n",
      "Total params: 458,868\n",
      "Trainable params: 458,852\n",
      "Non-trainable params: 16\n",
      "_________________________________________________________________\n"
     ]
    }
   ],
   "source": [
    "model.summary()"
   ]
  },
  {
   "cell_type": "code",
   "execution_count": 40,
   "id": "35219cc1",
   "metadata": {},
   "outputs": [
    {
     "name": "stdout",
     "output_type": "stream",
     "text": [
      "Train on 13552 samples, validate on 3388 samples\n",
      "Epoch 1/10\n",
      "13552/13552 [==============================] - 180s 13ms/sample - loss: 5.0124 - accuracy: 0.5230 - val_loss: 2.6419 - val_accuracy: 0.5431\n",
      "Epoch 2/10\n",
      "13552/13552 [==============================] - 174s 13ms/sample - loss: 1.9530 - accuracy: 0.6497 - val_loss: 1.8226 - val_accuracy: 0.5897\n",
      "Epoch 3/10\n",
      "13552/13552 [==============================] - 183s 14ms/sample - loss: 1.8128 - accuracy: 0.6761 - val_loss: 1.8856 - val_accuracy: 0.5688\n",
      "Epoch 4/10\n",
      "13552/13552 [==============================] - 175s 13ms/sample - loss: 1.8904 - accuracy: 0.6816 - val_loss: 2.1306 - val_accuracy: 0.6092\n",
      "Epoch 5/10\n",
      "13552/13552 [==============================] - 180s 13ms/sample - loss: 1.6866 - accuracy: 0.6980 - val_loss: 2.0539 - val_accuracy: 0.5779\n",
      "Epoch 6/10\n",
      "13552/13552 [==============================] - 184s 14ms/sample - loss: 1.8276 - accuracy: 0.7007 - val_loss: 1.7314 - val_accuracy: 0.5490\n",
      "Epoch 7/10\n",
      "13552/13552 [==============================] - 193s 14ms/sample - loss: 1.5418 - accuracy: 0.7071 - val_loss: 1.7338 - val_accuracy: 0.5236\n",
      "Epoch 8/10\n",
      "13552/13552 [==============================] - 195s 14ms/sample - loss: 1.2049 - accuracy: 0.7275 - val_loss: 1.6172 - val_accuracy: 0.5283\n",
      "Epoch 9/10\n",
      "13552/13552 [==============================] - 184s 14ms/sample - loss: 1.0757 - accuracy: 0.7333 - val_loss: 1.7533 - val_accuracy: 0.5646\n",
      "Epoch 10/10\n",
      "13552/13552 [==============================] - 186s 14ms/sample - loss: 1.2582 - accuracy: 0.7399 - val_loss: 1.7287 - val_accuracy: 0.5508\n"
     ]
    }
   ],
   "source": [
    "history = model.fit(X_train, \n",
    "                    y_train, \n",
    "                    epochs=10, \n",
    "                    batch_size=256,\n",
    "                    validation_data=(X_val, y_val), \n",
    "                    verbose=1)"
   ]
  },
  {
   "cell_type": "markdown",
   "id": "004cf5af",
   "metadata": {},
   "source": [
    "* Music\n",
    "    * Validation accuracy: 99.47%\n",
    "    * Validation loss: 0.0161\n",
    "* Rest\n"
   ]
  },
  {
   "cell_type": "code",
   "execution_count": 41,
   "id": "f9c6d1a2",
   "metadata": {},
   "outputs": [
    {
     "data": {
      "text/plain": [
       "<matplotlib.legend.Legend at 0x7fc2b21c9ad0>"
      ]
     },
     "execution_count": 41,
     "metadata": {},
     "output_type": "execute_result"
    },
    {
     "data": {
      "image/png": "[encoded data removed]",
      "text/plain": [
       "<Figure size 432x288 with 1 Axes>"
      ]
     },
     "metadata": {
      "needs_background": "light"
     },
     "output_type": "display_data"
    },
    {
     "data": {
      "image/png": "[encoded data removed]",
      "text/plain": [
       "<Figure size 432x288 with 1 Axes>"
      ]
     },
     "metadata": {
      "needs_background": "light"
     },
     "output_type": "display_data"
    }
   ],
   "source": [
    "# Retrieve a list of accuracy results on training and test data\n",
    "# sets for each training epoch\n",
    "acc = history.history['accuracy']\n",
    "val_acc = history.history['val_accuracy']\n",
    "\n",
    "# Retrieve a list of list results on training and test data\n",
    "# sets for each training epoch\n",
    "loss = history.history['loss']\n",
    "val_loss = history.history['val_loss']\n",
    "\n",
    "# Get number of epochs\n",
    "epochs = range(len(acc))\n",
    "\n",
    "# Plot training and validation accuracy per epoch\n",
    "plt.plot(epochs, acc)\n",
    "plt.plot(epochs, val_acc)\n",
    "plt.title('Training and validation accuracy')\n",
    "plt.legend(['train', 'val'], loc='upper left')\n",
    "# plt.legend(['train'], loc='upper left')\n",
    "\n",
    "\n",
    "plt.figure()\n",
    "\n",
    "# Plot training and validation loss per epoch\n",
    "plt.plot(epochs, loss)\n",
    "plt.plot(epochs, val_loss)\n",
    "plt.title('Training and validation loss')\n",
    "plt.legend(['train', 'val'], loc='upper left')\n",
    "# plt.legend(['train'], loc='upper left')"
   ]
  },
  {
   "cell_type": "code",
   "execution_count": null,
   "id": "4991ba59",
   "metadata": {},
   "outputs": [],
   "source": [
    "# test_loss, test_acc = model.evaluate(X_test, y_test)\n",
    "#\n",
    "# print('Test accuracy:', test_acc)\n",
    "# print('Test loss:', test_loss)"
   ]
  }
 ],
 "metadata": {
  "kernelspec": {
   "display_name": "Python 3",
   "language": "python",
   "name": "python3"
  },
  "language_info": {
   "codemirror_mode": {
    "name": "ipython",
    "version": 3
   },
   "file_extension": ".py",
   "mimetype": "text/x-python",
   "name": "python",
   "nbconvert_exporter": "python",
   "pygments_lexer": "ipython3",
   "version": "3.7.10"
  }
 },
 "nbformat": 4,
 "nbformat_minor": 5
}
